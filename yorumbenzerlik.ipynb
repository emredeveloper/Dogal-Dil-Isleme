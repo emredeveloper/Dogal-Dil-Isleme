{
 "cells": [
  {
   "cell_type": "code",
   "execution_count": 7,
   "metadata": {},
   "outputs": [],
   "source": [
    "from transformers import AutoTokenizer, AutoModelForSequenceClassification\n",
    "import torch"
   ]
  },
  {
   "cell_type": "code",
   "execution_count": 8,
   "metadata": {},
   "outputs": [],
   "source": [
    "tokenizer = AutoTokenizer.from_pretrained('bert-base-cased-finetuned-mrpc')\n",
    "model = AutoModelForSequenceClassification.from_pretrained('bert-base-cased-finetuned-mrpc')"
   ]
  },
  {
   "cell_type": "code",
   "execution_count": 9,
   "metadata": {},
   "outputs": [
    {
     "data": {
      "text/plain": [
       "'sometimes life is hard but we can do it'"
      ]
     },
     "execution_count": 9,
     "metadata": {},
     "output_type": "execute_result"
    }
   ],
   "source": [
    "# Define the sentences to compare\n",
    "sentence1 = \"The quick brown fox jumps over the lazy dog.\"\n",
    "sentence2 = \"The lazy dog is jumped over by the quick black cat.\"\n",
    "\n",
    "metin1 = \"Life is hard sometimes\"\n",
    "metin2 = \"Sometimes life is hard but we can do it\"\n",
    "\n",
    "metin1 = metin1.lower()\n",
    "metin2 = metin2.lower()\n",
    "metin1\n",
    "metin2"
   ]
  },
  {
   "cell_type": "code",
   "execution_count": 10,
   "metadata": {},
   "outputs": [
    {
     "name": "stdout",
     "output_type": "stream",
     "text": [
      "{'input_ids': tensor([[  101,  1109,  3613,  3058, 17594, 15457,  1166,  1103, 16688,  3676,\n",
      "           119,   102,  1109, 16688,  3676,  1110,  4874,  1166,  1118,  1103,\n",
      "          3613,  1602,  5855,   119,   102]]), 'token_type_ids': tensor([[0, 0, 0, 0, 0, 0, 0, 0, 0, 0, 0, 0, 1, 1, 1, 1, 1, 1, 1, 1, 1, 1, 1, 1,\n",
      "         1]]), 'attention_mask': tensor([[1, 1, 1, 1, 1, 1, 1, 1, 1, 1, 1, 1, 1, 1, 1, 1, 1, 1, 1, 1, 1, 1, 1, 1,\n",
      "         1]])}\n"
     ]
    }
   ],
   "source": [
    "inputs = tokenizer(sentence1, sentence2, return_tensors='pt')\n",
    "input1 = tokenizer(metin1,metin2,return_tensors=\"pt\")\n",
    "print(inputs)"
   ]
  },
  {
   "cell_type": "code",
   "execution_count": 11,
   "metadata": {},
   "outputs": [],
   "source": [
    "# Get the model's prediction\n",
    "with torch.no_grad():\n",
    "    outputs = model(**inputs)\n",
    "    logits = outputs.logits\n",
    "    probabilities = torch.softmax(logits, dim=1)\n",
    "    \n",
    "with torch.no_grad():\n",
    "    cikti = model(**input1)\n",
    "    logit = cikti.logits\n",
    "    olabilirlik = torch.softmax(logit,dim=1)\n",
    "    "
   ]
  },
  {
   "cell_type": "code",
   "execution_count": 12,
   "metadata": {},
   "outputs": [
    {
     "name": "stdout",
     "output_type": "stream",
     "text": [
      "Probability of sentences being paraphrases: 0.9337\n",
      "Benzerlik oranı: 0.7115\n"
     ]
    }
   ],
   "source": [
    "# Print the probability of the sentences being paraphrases\n",
    "paraphrase_prob = probabilities[0][1].item()\n",
    "result = olabilirlik[0][1].item()\n",
    "print(f\"Probability of sentences being paraphrases: {paraphrase_prob:.4f}\")\n",
    "print(f\"Benzerlik oranı: {result:.4f}\")"
   ]
  }
 ],
 "metadata": {
  "kernelspec": {
   "display_name": "base",
   "language": "python",
   "name": "python3"
  },
  "language_info": {
   "codemirror_mode": {
    "name": "ipython",
    "version": 3
   },
   "file_extension": ".py",
   "mimetype": "text/x-python",
   "name": "python",
   "nbconvert_exporter": "python",
   "pygments_lexer": "ipython3",
   "version": "3.10.11"
  },
  "orig_nbformat": 4
 },
 "nbformat": 4,
 "nbformat_minor": 2
}
