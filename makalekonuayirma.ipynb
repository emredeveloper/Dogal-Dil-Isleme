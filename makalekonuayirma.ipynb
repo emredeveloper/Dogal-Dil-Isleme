{
 "cells": [
  {
   "attachments": {},
   "cell_type": "markdown",
   "metadata": {},
   "source": [
    "  Eldeki bir makale koleksiyonunda konuları keşfetmek için LDA kullanabiliriz. Örnek olarak, 10 farklı makaleyi içeren bir makale koleksiyonu düşünelim ve her bir makalenin içerdiği kelimeleri bir dizi vektör olarak temsil edelim. Ardından, LDA ile konu modelleri oluşturabiliriz."
   ]
  },
  {
   "cell_type": "code",
   "execution_count": 11,
   "metadata": {},
   "outputs": [],
   "source": [
    "import numpy as np\n",
    "import pandas as pd\n",
    "import gensim\n",
    "from gensim import corpora, models\n",
    "from nltk.corpus import stopwords\n",
    "\n",
    "# Örnek makale koleksiyonu\n",
    "documents = ['Bu makale bir makale örneğidir.',\n",
    "             'Makale koleksiyonu LDA ile analiz edilebilir.',\n",
    "             'LDA bir konu modelleme tekniğidir.',\n",
    "             'LDA, makale koleksiyonunda gizli konuları keşfetmek için kullanılır.',\n",
    "             'Makale koleksiyonunda kullanılan kelimeler vektörlerle temsil edilebilir.',\n",
    "             'Bu örnek, LDA modelinin nasıl çalıştığını göstermektedir.',\n",
    "             'LDA modeli, veri setindeki konuların keşfedilmesine yardımcı olabilir.',\n",
    "             'Makale koleksiyonunda kullanılan kelimeler arasındaki ilişkiler LDA ile incelenebilir.',\n",
    "             'LDA modeli, bir makale koleksiyonundaki konuların sınıflandırılmasına yardımcı olabilir.',\n",
    "             'Makale koleksiyonunda LDA modeli kullanarak konuların görselleştirilmesi mümkündür.']\n",
    "\n",
    "# Stopwords'leri kaldıralım\n",
    "stop_words = stopwords.words('turkish')\n",
    "texts = [[word for word in document.lower().split() if word not in stop_words] for document in documents]\n",
    "\n",
    "# Kelimeleri vektörlere dönüştürelim\n",
    "dictionary = corpora.Dictionary(texts)\n",
    "#Bu kod, verilen texts listesi üzerinde bir sözlük (dictionary) oluşturuyor. corpora.Dictionary sınıfı, belirtilen metinleri alarak bir sözlük oluşturur ve her kelimeye bir benzersiz bir sayısal kimlik (ID) atar. Bu sözlük, ardından LDA modelinin girdisi olarak kullanılacaktır.\n",
    "corpus = [dictionary.doc2bow(text) for text in texts]\n",
    "#dictionary.doc2bow(text) metodu, bir belgenin metnini BoW gösterimine dönüştürür. Bu işlem sonucunda, corpus adlı bir BoW gösterimi oluşur, yani her bir belge, sözlükteki farklı kelimelerin sayısını içeren bir vektör olarak temsil edilir. Bu corpus daha sonra LDA modeli için kullanılabilir."
   ]
  },
  {
   "cell_type": "code",
   "execution_count": 12,
   "metadata": {},
   "outputs": [
    {
     "name": "stdout",
     "output_type": "stream",
     "text": [
      "Konu: 0 \n",
      "Kelimeler: 0.080*\"makale\" + 0.080*\"gizli\" + 0.080*\"konuları\" + 0.080*\"kullanılır.\" + 0.080*\"lda,\" + 0.080*\"koleksiyonunda\" + 0.080*\"keşfetmek\" + 0.013*\"lda\" + 0.013*\"bir\" + 0.013*\"konuların\"\n",
      "\n",
      "Konu: 1 \n",
      "Kelimeler: 0.135*\"makale\" + 0.103*\"lda\" + 0.071*\"bir\" + 0.039*\"konuların\" + 0.039*\"koleksiyonundaki\" + 0.039*\"sınıflandırılmasına\" + 0.039*\"örnek,\" + 0.039*\"göstermektedir.\" + 0.039*\"çalıştığını\" + 0.039*\"analiz\"\n",
      "\n",
      "Konu: 2 \n",
      "Kelimeler: 0.075*\"konuların\" + 0.075*\"lda\" + 0.075*\"modeli,\" + 0.075*\"yardımcı\" + 0.075*\"olabilir.\" + 0.075*\"setindeki\" + 0.075*\"veri\" + 0.075*\"keşfedilmesine\" + 0.013*\"makale\" + 0.013*\"bir\"\n",
      "\n",
      "Konu: 3 \n",
      "Kelimeler: 0.103*\"koleksiyonunda\" + 0.103*\"makale\" + 0.071*\"kelimeler\" + 0.071*\"kullanılan\" + 0.071*\"lda\" + 0.039*\"edilebilir.\" + 0.039*\"ilişkiler\" + 0.039*\"temsil\" + 0.039*\"arasındaki\" + 0.039*\"vektörlerle\"\n",
      "\n",
      "Konu: 4 \n",
      "Kelimeler: 0.092*\"bir\" + 0.092*\"lda\" + 0.092*\"konu\" + 0.092*\"modelleme\" + 0.092*\"tekniğidir.\" + 0.015*\"makale\" + 0.015*\"konuların\" + 0.015*\"koleksiyonunda\" + 0.015*\"örneğidir.\" + 0.015*\"edilebilir.\"\n",
      "\n"
     ]
    }
   ],
   "source": [
    "# LDA modelini oluşturalım\n",
    "lda_model = models.ldamodel.LdaModel(corpus=corpus, id2word=dictionary, num_topics=5, passes=5)\n",
    "\n",
    "# Konuları gösterelim\n",
    "for idx, topic in lda_model.print_topics(-1):\n",
    "    print('Konu: {} \\nKelimeler: {}\\n'.format(idx, topic))\n"
   ]
  }
 ],
 "metadata": {
  "kernelspec": {
   "display_name": "Python 3",
   "language": "python",
   "name": "python3"
  },
  "language_info": {
   "codemirror_mode": {
    "name": "ipython",
    "version": 3
   },
   "file_extension": ".py",
   "mimetype": "text/x-python",
   "name": "python",
   "nbconvert_exporter": "python",
   "pygments_lexer": "ipython3",
   "version": "3.11.1"
  },
  "orig_nbformat": 4
 },
 "nbformat": 4,
 "nbformat_minor": 2
}
